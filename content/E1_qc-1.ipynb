{
 "cells": [
  {
   "cell_type": "markdown",
   "metadata": {},
   "source": [
    "# **Quantum programming**\n",
    "\n",
    "$\\newcommand{\\bra}[1]{\\langle#1|}$\n",
    "$\\newcommand{\\ket}[1]{|#1\\rangle}$"
   ]
  },
  {
   "cell_type": "markdown",
   "metadata": {},
   "source": [
    "## **Introduction**"
   ]
  },
  {
   "cell_type": "markdown",
   "metadata": {},
   "source": [
    "Loosely speaking, quantum programming consists of two components. First, there is an abstract model&mdash;the **circuit model**&mdash;which we use to represent quantum programs. Second, we will use an actual, concrete programming language, Python, to create, manipulate and run quantum circuits or programs.\n",
    "\n",
    "We will briefly discuss quantum circuits and then dive into Python programming."
   ]
  },
  {
   "cell_type": "markdown",
   "metadata": {},
   "source": [
    "### **Quantum circuits**"
   ]
  },
  {
   "cell_type": "markdown",
   "metadata": {},
   "source": [
    "At the heart of a quantum program is a **quantum circuit**. It is the same idea that is used in classical programming. A quantum circuit has 'wires' that carry **qubits** (quantum bits) instead of classical bits, and the qubits are acted on by **gates**. A generic quantum circuit looks like this:\n",
    "\n",
    "```{figure} img/general-quantum-circuit-1.png\n",
    "---\n",
    "align: center\n",
    "width: 400px\n",
    "alt: \"Quantum circuit\"\n",
    "---\n",
    "```\n",
    "\n",
    "Gates are shown as rectangular blocks with $N$ wires entering and $N$ leaving the gate. We imagine the qubits, or actually their states, as propagating from left to right along the wires.\n",
    "\n",
    "For instance, in the Figure, the initial state entering the circuit is a four qubit product state\n",
    "\n",
    "$$\n",
    "\\ket{\\psi_I} = \\ket{0} \\otimes \\ket{0} \\otimes \\ket{0} \\otimes \\ket{0} \\equiv\n",
    "\\ket{0000}.\n",
    "$$\n",
    "\n",
    "As the state propagates to the right, the qubits are processed by gates $U_1$,\n",
    "$U_2$, $U_3$ and $U_4$. At the end we have a **possibly entangled** final state\n",
    "$\\ket{\\psi_F}$. The final state is then measured **in the computational basis**,\n",
    "this is represented by the block that reminds of a measurement device.\n",
    "\n",
    "In summary, a quantum circuit looks very much like a classical circuit, except that we have replaced classical elements with quantum elements: \n",
    "\n",
    "- (classical) bits $\\rightarrow$ qubits\n",
    "- (classical) gates $\\rightarrow$ quantum gates which are represented by unitary operators and measurements."
   ]
  },
  {
   "cell_type": "markdown",
   "metadata": {},
   "source": [
    "### **Quantum programming libraries**"
   ]
  },
  {
   "cell_type": "markdown",
   "metadata": {},
   "source": [
    "With the circuit paradigm underlying quantum programming, our task is now to use a generic programming language to **create** and **run** circuits depicted above. To this aim, many libraries have been created. Among the best known to date are: \n",
    "\n",
    "* [`Qiskit` by IBM](https://qiskit.org/) (Python)\n",
    "\n",
    "* [`Cirq` by Google](https://quantumai.google/cirq) (Python)\n",
    "\n",
    "* [`Q#` by Microsoft](https://azure.microsoft.com/en-us/resources/development-kit/quantum-computing/)\n",
    "\n",
    "There are others too. However, because `Qiskit`, which was one of the first, enjoys wide support among quantum hardware vendors and is used widely in education, we will focus on `Qiskit` in our practice session. Since many other libraries also rely on the circuit model, once one masters `Qiskit`, it is relatively easy to learn and use a different library."
   ]
  },
  {
   "cell_type": "markdown",
   "metadata": {},
   "source": [
    "## **Practice session 1: Single qubit**"
   ]
  },
  {
   "cell_type": "markdown",
   "metadata": {},
   "source": [
    "### **First circuit: template of a quantum program**"
   ]
  },
  {
   "cell_type": "markdown",
   "metadata": {},
   "source": [
    "The basic template of a quantum program contains two parts: \n",
    "\n",
    "1. create and design a circuit\n",
    "2. run the circuit.\n",
    "\n",
    "The following code shows this structure."
   ]
  },
  {
   "cell_type": "code",
   "execution_count": 1,
   "metadata": {},
   "outputs": [
    {
     "name": "stdout",
     "output_type": "stream",
     "text": [
      "{'1': 1024}\n"
     ]
    }
   ],
   "source": [
    "from qiskit import QuantumCircuit, assemble, Aer\n",
    "from qiskit.visualization import plot_histogram\n",
    "\n",
    "# create quantum circuit\n",
    "qc = QuantumCircuit(1)\n",
    "\n",
    "qc.x(0)                          # add a gate to the circuit\n",
    "qc.measure_all()                 # add measurement at the end\n",
    "\n",
    "# run\n",
    "sim = Aer.get_backend('aer_simulator')\n",
    "qobj = assemble(qc)\n",
    "result = sim.run(qobj).result()  # run circuit, get results\n",
    "\n",
    "# output statistics\n",
    "counts = result.get_counts()     # extract statistics from results\n",
    "print(counts)"
   ]
  },
  {
   "cell_type": "markdown",
   "metadata": {},
   "source": [
    "Let us walk through the code. \n",
    "\n",
    "In line 5 (L5) we create a quantum circuit `qc` that consists of 1 qubit, the argument of `QuantumCircuit()`. At this point, the circuit is an empty object, a container to which we can add gates. \n",
    "\n",
    "In L7 we add the Pauli $X$ gate `x(qubit)`, which flips the qubit state. The argument `0` is the number of the qubit to which the gate is applied.\n",
    "\n",
    "When we are done with unitary gates, we add a measurement gate at the end of the circuit in L8. This performs a measurement in the computational basis, the basis $\\{ \\ket{0}, \\ket{1} \\}$. \n",
    "\n",
    "This concludes our simple circuit.\n",
    "\n",
    "To run the circuit (L11-L13), we create a 'quantum machine' on which the circuit will be run. The library allows one to choose between different kinds of 'quantum machines'. It can be a fake 'quantum machine', that is, a simulator, which is basically a classical computer with a CPU or GPU that simulates a quantum computer. Or it can be a real quantum device that is implemented in a particular physical hardware. At this point, we have chosen the `aer_simulator` which is simulator that can be mimic many different kinds of quantum evolutions.\n",
    "\n",
    "Finally, in L16 we extract measurement statistics from results.\n",
    "\n",
    "What does the printout `{'1': 1024}` show? It shows that as a result of the measurement, we have gotten the state $\\ket{1}$ 1024 times. By default, our simulator ran the circuit 1024 times, and each time we got the same state.\n",
    "\n",
    "We can depict this in a histogram. The histogram shows probabilities instead of raw counts."
   ]
  },
  {
   "cell_type": "code",
   "execution_count": 2,
   "metadata": {},
   "outputs": [
    {
     "data": {
      "image/png": "[encoded data removed]",
      "text/plain": [
       "<Figure size 504x360 with 1 Axes>"
      ]
     },
     "execution_count": 2,
     "metadata": {},
     "output_type": "execute_result"
    }
   ],
   "source": [
    "plot_histogram(counts)"
   ]
  },
  {
   "cell_type": "markdown",
   "metadata": {},
   "source": [
    "We can also draw the quantum circuit. The argument `\"mpl\"` gives a nice matplotlib output."
   ]
  },
  {
   "cell_type": "code",
   "execution_count": 3,
   "metadata": {},
   "outputs": [
    {
     "data": {
      "image/png": "[encoded data removed]",
      "text/plain": [
       "<Figure size 297.479x144.48 with 1 Axes>"
      ]
     },
     "execution_count": 3,
     "metadata": {},
     "output_type": "execute_result"
    }
   ],
   "source": [
    "qc.draw(\"mpl\")"
   ]
  },
  {
   "cell_type": "markdown",
   "metadata": {},
   "source": [
    "The line or wire marked with `q` depicts our qubit. The dashed line is a barrier that visually separates different operations; it is more useful with larger circuits and measurements.\n",
    "\n",
    "At the end there is the measurement.\n",
    "\n",
    "Note that the circuit has an additional wire `meas` that we did not add. When we measure, we need to store the measurement result somewhere; for this purpose, the library has added a classical bit silently. We could have, and will add, classical bits explicitly in the future.\n",
    "\n",
    "Note also that the result of the computation depends on the initial state. By default the initial state is set to $\\ket{0}$. If we want, we can set the initial state to whatever we like. We can also draw the circuit with the initial state of the qubit(s) and the classical bit(s) shown explicitly, here $\\ket{0}$ and $0$, respectively."
   ]
  },
  {
   "cell_type": "code",
   "execution_count": null,
   "metadata": {},
   "outputs": [],
   "source": [
    "qc.draw(output=\"mpl\", initial_state=True)"
   ]
  },
  {
   "cell_type": "markdown",
   "metadata": {},
   "source": [
    "> **Exercise 1**. Display the circuit using a text backend by setting output to `\"text\"`."
   ]
  },
  {
   "cell_type": "markdown",
   "metadata": {},
   "source": [
    "### **Measurement**"
   ]
  },
  {
   "cell_type": "markdown",
   "metadata": {},
   "source": [
    "Measurement is a central to quantum theory. When we want to learn what is the state of the quantum system we need to carry out a measurement. For quantum computing it means if we want to learn what is the result of the computation, we need to carry out a measurement on the qubits that comprise our quantum computer. Let us investigate measurement.\n",
    "\n",
    "In the above histogram we learned that measurement of the qubit gave the state $\\ket{1}$ for all runs of the circuit. This means the probability of getting $\\ket{1}$ was 100%. In fact, this is exactly what we would get in classical setting: if the initial bit is $0$ and we perform a NOT operation, the output is $1$.\n",
    "\n",
    "Let us next set the initial state $\\ket{\\psi_i}$ to a linear combination or superposition of basis qubits\n",
    "\n",
    "$$\n",
    "\\ket{\\psi_i} = \\frac{\\ket{0} + \\ket{1}}{\\sqrt{2}}.\n",
    "$$\n",
    "\n",
    "This corresponds to the vector $\\left(1 / \\sqrt{2}, 1 / \\sqrt{2}\\right)$. Let us see how the result changes."
   ]
  },
  {
   "cell_type": "code",
   "execution_count": null,
   "metadata": {},
   "outputs": [],
   "source": [
    "from qiskit import QuantumCircuit, assemble, Aer\n",
    "from qiskit.visualization import plot_histogram\n",
    "import numpy as np\n",
    "\n",
    "# create quantum circuit\n",
    "qc = QuantumCircuit(1)\n",
    "\n",
    "init_state = [1. / np.sqrt(2), 1. / np.sqrt(2)]  # define initial state\n",
    "qc.initialize(init_state, 0)                     # initialize qubit 0 to init_state\n",
    "\n",
    "qc.x(0)                          # add a gate to the circuit\n",
    "qc.measure_all()                 # add measurement at the end\n",
    "\n",
    "# run\n",
    "sim = Aer.get_backend('aer_simulator')\n",
    "qobj = assemble(qc)\n",
    "result = sim.run(qobj).result()  # run circuit, get results\n",
    "\n",
    "# output statistics\n",
    "counts = result.get_counts()     # extract statistics from results\n",
    "print(\"\\nCounts =\", counts)\n",
    "print()\n",
    "\n",
    "plot_histogram(counts)"
   ]
  },
  {
   "cell_type": "markdown",
   "metadata": {},
   "source": [
    "We observe that the states $\\ket{0}$ (represented by `0`) and $\\ket{1}$ (represented by `1`) were obtained in an almost equal number of cases. The histogram shows the respective probabilities, that is, the relative number of occurrence of each outcome, $p_i = \\frac{N_i}{N}$ where $N_i$ is the number of outcomes $i$ and $N$ is the total number of outcomes.\n",
    "\n",
    "We know from quantum theory that the square moduli of coefficients in the state vector show probabilities. The state vector in the code has $1/\\sqrt{2}$ for each state and the $X$ gate flips both qubits, giving the same state. Hence the probability of getting each should be $0.5$, and not less and not more. But when you run the above circuit many times, you see that the distribution is always different and rarely precisely $(0.5, 0.5)$. What is happening?\n",
    "\n",
    "The reason is that the simulator is trying to mimic a realistic quantum machine. An experimental distribution above generally differs from the ideal distribution $(0.5, 0.5)$. We would get closer to the ideal homogeneous distribution $(0.5, 0.5)$ when we increase the number shots. This is the same phenomenon as in any other random experiment like tossing a coin or rolling a die.\n",
    "\n",
    "In the following exercises, use the code above."
   ]
  },
  {
   "cell_type": "markdown",
   "metadata": {},
   "source": [
    "> **Exercise 2**. Experiment with different number of shots in the above code and see how the distribution changes. Set the number of shots in the `run` call as follows: `simulator.run(qobj, shots=1024)`. Run the circuit with `shots=100`, `shots=1024` and `shots=4000`. Observe the distribution approaching $(0.5, 0.5)$ as the number of shots increases."
   ]
  },
  {
   "cell_type": "markdown",
   "metadata": {},
   "source": [
    "> **Exercise 3.** Experiment with a different initial state in the above code. Set the initial state to `[np.sqrt(1 / 4), np.sqrt(3 / 4)]`. How do the counts and the histogram change? Use a large number of shots to get better statistics."
   ]
  },
  {
   "cell_type": "markdown",
   "metadata": {},
   "source": [
    "> **Exercise 4.** Experiment with the initial state to `[np.sqrt(1 / 4), 1j*np.sqrt(3 / 4)]`. Is the probability distribution different from the one in the previous exercise?"
   ]
  },
  {
   "cell_type": "markdown",
   "metadata": {},
   "source": [
    "### **Bloch sphere visualization**"
   ]
  },
  {
   "cell_type": "markdown",
   "metadata": {},
   "source": [
    "The state $\\ket{\\psi}$ of a single qubit lives in $\\mathbb{C}^2$. The two complex coordinates of this space correspond to four real numbers, that is, a four dimensional real space. We cannot visualize this geometrically. \n",
    "\n",
    "However, we can represent the quantum state using a 3D unit vector, the so called Bloch vector. This enables to visualize the quantum state using 3D geometry. It is a great tool for studying the behavior of qubits."
   ]
  },
  {
   "cell_type": "code",
   "execution_count": null,
   "metadata": {},
   "outputs": [],
   "source": [
    "from qiskit.visualization import plot_bloch_vector\n",
    "\n",
    "vector = [0, 1, 0]         # coordinates [x, y, z]\n",
    "plot_bloch_vector(vector)  # plot in the Bloch sphere"
   ]
  },
  {
   "cell_type": "markdown",
   "metadata": {},
   "source": [
    "It is important to keep in mind that the quantum state and the Bloch vector are two different objects. They belong to different spaces. The Bloch vector *represents* the quantum state.\n",
    "\n",
    "Secondly, the Bloch sphere is first and foremost intended for single qubit states. Although we will sometimes use the Bloch sphere for multi-qubit states, its usage there will be limited."
   ]
  },
  {
   "cell_type": "markdown",
   "metadata": {},
   "source": [
    "### **Single qubit gates**"
   ]
  },
  {
   "cell_type": "markdown",
   "metadata": {},
   "source": [
    "Single qubit gates are the building blocks of your quantum circuit. When we build quantum circuits, we only need a restricted set of gates&mdash;a universal set&mdash;to build any circuit we want. In more mathematical terms, we can express any unitary (=any circuit) with a series of gates that belong to a universal set."
   ]
  },
  {
   "cell_type": "markdown",
   "metadata": {},
   "source": [
    "#### **Pauli gates**"
   ]
  },
  {
   "cell_type": "markdown",
   "metadata": {},
   "source": [
    "These are the gates represented by the Pauli matrices\n",
    "\n",
    "$$\n",
    "X = \\begin{bmatrix} \n",
    "      0 & 1 \\\\ 1 & 0 \n",
    "    \\end{bmatrix},\\quad\\quad\\quad\\quad \n",
    "Y = \\begin{bmatrix} \n",
    "      0 & -i \\\\ i & 0 \n",
    "    \\end{bmatrix},\\quad\\quad\\quad\\quad \n",
    "Z = \\begin{bmatrix} \n",
    "      1 & 0 \\\\ 0 & -1 \n",
    "    \\end{bmatrix}.\n",
    "$$\n"
   ]
  },
  {
   "cell_type": "markdown",
   "metadata": {},
   "source": [
    "Using Qiskit, we represent them with the respective lower case letters. Let's build a simple circuit without a measurement."
   ]
  },
  {
   "cell_type": "code",
   "execution_count": null,
   "metadata": {},
   "outputs": [],
   "source": [
    "qc = QuantumCircuit(1)\n",
    "qc.x(0)\n",
    "qc.y(0)\n",
    "qc.z(0)\n",
    "qc.draw(\"mpl\")"
   ]
  },
  {
   "cell_type": "markdown",
   "metadata": {},
   "source": [
    "Let us illustrate the effect of the $X$ gate on the Bloch sphere. In the following example, we do not perform a measurement at the end of the circuit. We will use the simulator that enables to directly inspect the state after running the circuit."
   ]
  },
  {
   "cell_type": "code",
   "execution_count": null,
   "metadata": {},
   "outputs": [],
   "source": [
    "from qiskit import QuantumCircuit, assemble, Aer\n",
    "from qiskit.visualization import plot_bloch_multivector\n",
    "import numpy as np\n",
    "\n",
    "# create quantum circuit\n",
    "qc = QuantumCircuit(1)\n",
    "\n",
    "qc.x(0)                                # add gate x(qubit)\n",
    "\n",
    "# run\n",
    "sim = Aer.get_backend('aer_simulator')\n",
    "qc.save_statevector()                  # we want to use statevector later\n",
    "qobj = assemble(qc)\n",
    "result = sim.run(qobj).result()         # run circuit, get results\n",
    "final_state = result.get_statevector()  # get the final state from the result\n",
    "\n",
    "# visualize\n",
    "plot_bloch_multivector(final_state)     # display final state directly on Bloch sphere"
   ]
  },
  {
   "cell_type": "markdown",
   "metadata": {},
   "source": [
    "Note that\n",
    "\n",
    "1. we did not specify the initial state, so the initial state was $\\ket{0}$,\n",
    "\n",
    "2. we displayed the quantum state (which lives in $\\mathbb{C}^2$) directly on the Bloch sphere using the `plot_bloch_multivector()` routine. Using the latter, we did not need to convert the state into a 3D Bloch vector.\n",
    "\n",
    "We can think of the $X$ gate as performing a rotation by $\\pi$ radians around the $x$-axis on the Bloch sphere. It is often called a NOT-gate in analogy to the classical NOT gate. \n",
    "\n",
    "Similarly, we can think of the $Y$ and $Z$ gates as $\\pi$ rotations around the $y$- and $z$-axes, respectively."
   ]
  },
  {
   "cell_type": "markdown",
   "metadata": {},
   "source": [
    "> **Exercise 5**. Visualize the action of the $Z$ gate on the initial state `[1. / np.sqrt(2), 1. / np.sqrt(2)]` using the Bloch sphere. Use the code above."
   ]
  },
  {
   "cell_type": "markdown",
   "metadata": {},
   "source": [
    "#### **Hadamard gate**"
   ]
  },
  {
   "cell_type": "markdown",
   "metadata": {},
   "source": [
    "The Hadamard gate is an interesting gate since it transforms a basis state into a superposition,\n",
    "\n",
    "$$\n",
    "H|0\\rangle = \\frac{\\ket{0} + \\ket{1}}{\\sqrt{2}}, \\quad\\quad\\quad \n",
    "H|1\\rangle = \\frac{\\ket{0} - \\ket{1}}{\\sqrt{2}}.\n",
    "$$\n",
    "\n",
    "It is represented by the following matrix,\n",
    "\n",
    "$$\n",
    "H = \\tfrac{1}{\\sqrt{2}}\\begin{bmatrix} \n",
    "      1 & 1 \\\\ 1 & -1 \n",
    "    \\end{bmatrix}.\n",
    "$$"
   ]
  },
  {
   "cell_type": "code",
   "execution_count": null,
   "metadata": {},
   "outputs": [],
   "source": [
    "qc = QuantumCircuit(1)\n",
    "qc.h(0)  # add Hadamard gate h(qubit)\n",
    "qc.draw(\"mpl\")"
   ]
  },
  {
   "cell_type": "markdown",
   "metadata": {},
   "source": [
    "Let's visualize the action of the Hadamard gate on the basis state $\\ket{0}$."
   ]
  },
  {
   "cell_type": "code",
   "execution_count": null,
   "metadata": {},
   "outputs": [],
   "source": [
    "from qiskit import QuantumCircuit, assemble, Aer\n",
    "from qiskit.visualization import plot_bloch_multivector\n",
    "import numpy as np\n",
    "\n",
    "# create quantum circuit\n",
    "qc = QuantumCircuit(1)\n",
    "\n",
    "qc.h(0)                                # add h(qubit)\n",
    "\n",
    "# run\n",
    "sim = Aer.get_backend('aer_simulator')\n",
    "qc.save_statevector()                  # we want to use statevector later\n",
    "qobj = assemble(qc)\n",
    "result = sim.run(qobj).result()         # run circuit, get results\n",
    "final_state = result.get_statevector()  # get the final state from the result\n",
    "\n",
    "# visualize\n",
    "plot_bloch_multivector(final_state)     # display final state directly on Bloch sphere"
   ]
  },
  {
   "cell_type": "markdown",
   "metadata": {},
   "source": [
    "We can think of the Hadamard gate as a transformation between the $X$ and $Z$ bases. Alternatively, it can be viewed as a rotation around the axis in the direction of the Bloch vector $[1, 0, 1]$."
   ]
  },
  {
   "cell_type": "markdown",
   "metadata": {},
   "source": [
    "> **Exercise 6**. Change the above code as follows: perform the Hadamard gate $H$, then the $Z$ gate, followed by one more $H$."
   ]
  },
  {
   "cell_type": "markdown",
   "metadata": {},
   "source": [
    "#### **Rotations**"
   ]
  },
  {
   "cell_type": "markdown",
   "metadata": {},
   "source": [
    "Above we mentioned rotations by $\\pi$ radians. We can rotate the state by any angle $\\phi$ around $x, y$ and $z$-axis using parameterized gates $R_x(\\phi), R_y(\\phi)$ and $R_z(\\phi)$. The Python routines are, respectively, `rx(), ry()` and `rz()` with the arguments `theta, qubit` in each case.\n",
    "\n",
    "In the following example we rotate $\\ket{0}$ around the $x$-axis by $\\pi / 2$."
   ]
  },
  {
   "cell_type": "code",
   "execution_count": null,
   "metadata": {},
   "outputs": [],
   "source": [
    "from qiskit import QuantumCircuit, assemble, Aer\n",
    "from qiskit.visualization import plot_bloch_multivector\n",
    "import numpy as np\n",
    "\n",
    "# create quantum circuit\n",
    "qc = QuantumCircuit(1)\n",
    "\n",
    "qc.rx(np.pi / 2, 0)                    # add rx(angle, qubit)\n",
    "\n",
    "# run\n",
    "sim = Aer.get_backend('aer_simulator')\n",
    "qc.save_statevector()                  # we want to use statevector later\n",
    "qobj = assemble(qc)\n",
    "result = sim.run(qobj).result()         # run circuit, get results\n",
    "final_state = result.get_statevector()  # get the final state from the result\n",
    "\n",
    "# visualize\n",
    "plot_bloch_multivector(final_state)     # display final state directly on Bloch sphere"
   ]
  },
  {
   "cell_type": "markdown",
   "metadata": {},
   "source": [
    "> **Exercise 7**. Add a rotation to the above code so that the final state is rotated halfway between the $x$ and $y$-axis."
   ]
  },
  {
   "cell_type": "markdown",
   "metadata": {},
   "source": [
    "#### **P** and **S**-gates"
   ]
  },
  {
   "cell_type": "markdown",
   "metadata": {},
   "source": [
    "Rotation around the $z$-axis has the form \n",
    "\n",
    "$$\n",
    "Z = \\begin{bmatrix} \n",
    "      1 & 0 \\\\ 0 & e^{i\\phi} \n",
    "    \\end{bmatrix}.\n",
    "$$\n",
    "\n",
    "and is alternatively called the $P$-gate (=phase gate) since it adds a phase $e^{i\\phi}$ to $\\ket{1}$. In Python, we write `p(phase, qubit)`.\n",
    "\n",
    "The $S$-gate is a $z$-rotation by $\\pi / 2$ radians, so it's really the $P$-gate with $\\phi = \\pi / 2$. \n",
    "\n",
    "In the following example we use the $P$-gate to rotate the qubit in the positive direction of the $y$-axis."
   ]
  },
  {
   "cell_type": "code",
   "execution_count": null,
   "metadata": {},
   "outputs": [],
   "source": [
    "from qiskit import QuantumCircuit, assemble, Aer\n",
    "from qiskit.visualization import plot_bloch_multivector\n",
    "import numpy as np\n",
    "\n",
    "# create quantum circuit\n",
    "qc = QuantumCircuit(1)\n",
    "\n",
    "qc.rx(np.pi / 2, 0)                    # add rx(angle, qubit)\n",
    "qc.p(np.pi, 0)                         # add p(phase, qubit)\n",
    "\n",
    "# run\n",
    "sim = Aer.get_backend('aer_simulator')\n",
    "qc.save_statevector()                  # we want to use statevector later\n",
    "qobj = assemble(qc)\n",
    "result = sim.run(qobj).result()         # run circuit, get results\n",
    "final_state = result.get_statevector()  # get the final state from the result\n",
    "\n",
    "# visualize\n",
    "plot_bloch_multivector(final_state)     # display final state directly on Bloch sphere"
   ]
  },
  {
   "cell_type": "markdown",
   "metadata": {},
   "source": [
    "> **Exercise 8**. Change the above code so the final state is along the $x$-axis."
   ]
  },
  {
   "cell_type": "markdown",
   "metadata": {},
   "source": [
    "## **Summary**"
   ]
  },
  {
   "cell_type": "markdown",
   "metadata": {},
   "source": [
    "In this session, we have reviewed single qubit operations. They are important because of universality: given all possible one qubit operations and an entangling two qubit operation (see next session), we can build any circuit we want. We do not need $3, 4, 5, \\ldots$ qubit gates at all.\n",
    "\n",
    "It is also important to notice that any given quantum computer has a small number of gates available that the hardware uses. All other gates are reduced to those gates. For this reason, this small set is called the **physical gates**. For instance, the IBM quantum computer hardware uses the $X, SX, R_z$ and the $I$ gate. The latter is identity, a no operation gate.\n",
    "\n",
    "In the next session we will focus on two qubit gates."
   ]
  }
 ],
 "metadata": {
  "kernelspec": {
   "display_name": "Python 3 (ipykernel)",
   "language": "python",
   "name": "python3"
  },
  "language_info": {
   "codemirror_mode": {
    "name": "ipython",
    "version": 3
   },
   "file_extension": ".py",
   "mimetype": "text/x-python",
   "name": "python",
   "nbconvert_exporter": "python",
   "pygments_lexer": "ipython3",
   "version": "3.9.12"
  }
 },
 "nbformat": 4,
 "nbformat_minor": 4
}

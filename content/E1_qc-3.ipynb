{
 "cells": [
  {
   "cell_type": "markdown",
   "metadata": {},
   "source": [
    "# **Quantum programming**\n",
    "$\\newcommand{\\bra}[1]{\\langle#1|}$\n",
    "$\\newcommand{\\ket}[1]{|#1\\rangle}$"
   ]
  },
  {
   "cell_type": "markdown",
   "metadata": {},
   "source": [
    "## **Practice session 3**"
   ]
  },
  {
   "cell_type": "markdown",
   "metadata": {},
   "source": [
    "In this session, we are going to focus on quantum teleportation."
   ]
  },
  {
   "cell_type": "markdown",
   "metadata": {},
   "source": [
    "### **Quantum teleportation**"
   ]
  },
  {
   "cell_type": "markdown",
   "metadata": {},
   "source": [
    "What is quantum teleportation? It is the notion that one can send quantum information&mdash;a quantum state&mdash;over to another party using entangled states. Let us first look at the protocol and then discuss why it is a big deal.\n",
    "\n",
    "Suppose two agents, usually called Alice and Bob, share a two particle entangled state. Each has one particle and the total state of the two particle system is a Bell state. Suppose next that Alice has yet another particle in her possession: a single copy of a qubit in some generic state $\\ket{\\psi} = \\alpha \\ket{0} + \\beta \\ket{1}$ that she does not know exactly, and she wants to transfer this (unknown) state to Bob. What does this mean, how could Alice send the state to Bob? It can mean many things. For instance: \n",
    "\n",
    "1. Alice might physically transport the qubit (the particle) to Bob.\n",
    "\n",
    "2. Alice could make a copy of the qubit and physically transport the copy (the particle) to Bob.\n",
    "\n",
    "3. Alice could find out what is the state of the qubit and send information of the *qubit state* to Bob. Bob can then prepare that state in the lab. No particle is physically transported between the parties.\n",
    "\n",
    "The first sense is not interesting, it is not new. \n",
    "\n",
    "The second is also not interesting; but it turns out it is actually impossible in the quantum world. There is a fundamental theorem about quantum states: one cannot copy an arbitrary quantum state (so-called *no cloning theorem*). This is a striking result since copying a state is something we frequently rely on in the classical world. For instance, the routine statement `a = b` in a programming language where one assigns the value of `b` to `a` can mean that the value of `a` is copied over to `b`. \n",
    "\n",
    "The third sense is in the direction of what we would like to achieve. Alas, it fails because of the no cloning theorem. If Alice wanted to know what is the state, she would need to make many copies of the qubit, make many measurements and collect statistics to learn what the exact state is. However, even if this were the case&mdash;even if Alice had many copies of the qubit&mdash;it would not be a good idea since characterizing the state precisely requires sending a lot of classical information because the coefficients $\\alpha, \\beta$ take values in a continuous space.\n",
    "\n",
    "It turns out there is a fourth way: \n",
    "\n",
    "4. Alice uses *quantum teleportation*. \n",
    "\n",
    "Alice can use the entangled states she shares with Bob to *transfer the state of the single qubit over to Bob's particle*! This is why it's called teleportation: the original state in Alice's possession is lost and Bob's particle will be in the state $\\ket{\\psi}$. It does involve sending two bits of classical information, but the overhead is tiny. This is a truly quantum feat; it is impossible in the classical world. Note also that: \n",
    "\n",
    "- no physical particles are transported from Alice to Bob,\n",
    "- Alice will not know the state $\\ket{\\psi}$.\n",
    "\n",
    "\n",
    "How does this work in detail?"
   ]
  },
  {
   "cell_type": "markdown",
   "metadata": {},
   "source": [
    "#### **Preparation: create shared entangled state**"
   ]
  },
  {
   "cell_type": "markdown",
   "metadata": {},
   "source": [
    "Alice and Bob need to share a two-qubit entangled state, we allocate qubits $\\ket{q_2 q_1}$ for this. The unknown state $\\ket{\\psi}$ that Alice wants to send to Bob is the state of qubit $\\ket{q_0}$. The total initial state of the system is\n",
    "\n",
    "$$\n",
    "\\ket{q_2 q_1 q_0}.\n",
    "$$\n",
    "\n",
    "We assume initially $\\ket{q_2 q_1} = \\ket{00}$ and use our entangling circuit from the previous session to create a Bell state for Alice and Bob."
   ]
  },
  {
   "cell_type": "code",
   "execution_count": 1,
   "metadata": {},
   "outputs": [
    {
     "ename": "MissingOptionalLibraryError",
     "evalue": "\"The 'pylatexenc' library is required to use 'MatplotlibDrawer'. You can install it with 'pip install pylatexenc'.\"",
     "output_type": "error",
     "traceback": [
      "\u001b[0;31m---------------------------------------------------------------------------\u001b[0m",
      "\u001b[0;31mMissingOptionalLibraryError\u001b[0m               Traceback (most recent call last)",
      "Input \u001b[0;32mIn [1]\u001b[0m, in \u001b[0;36m<cell line: 22>\u001b[0;34m()\u001b[0m\n\u001b[1;32m     19\u001b[0m result \u001b[38;5;241m=\u001b[39m sim\u001b[38;5;241m.\u001b[39mrun(qobj)\u001b[38;5;241m.\u001b[39mresult()  \u001b[38;5;66;03m# run circuit, get results\u001b[39;00m\n\u001b[1;32m     21\u001b[0m \u001b[38;5;66;03m# draw the circuit\u001b[39;00m\n\u001b[0;32m---> 22\u001b[0m \u001b[43mqc\u001b[49m\u001b[38;5;241;43m.\u001b[39;49m\u001b[43mdraw\u001b[49m\u001b[43m(\u001b[49m\u001b[38;5;124;43m\"\u001b[39;49m\u001b[38;5;124;43mmpl\u001b[39;49m\u001b[38;5;124;43m\"\u001b[39;49m\u001b[43m)\u001b[49m\n",
      "File \u001b[0;32m~/miniconda3/envs/qcomp/lib/python3.9/site-packages/qiskit/circuit/quantumcircuit.py:1835\u001b[0m, in \u001b[0;36mQuantumCircuit.draw\u001b[0;34m(self, output, scale, filename, style, interactive, plot_barriers, reverse_bits, justify, vertical_compression, idle_wires, with_layout, fold, ax, initial_state, cregbundle)\u001b[0m\n\u001b[1;32m   1832\u001b[0m \u001b[38;5;66;03m# pylint: disable=cyclic-import\u001b[39;00m\n\u001b[1;32m   1833\u001b[0m \u001b[38;5;28;01mfrom\u001b[39;00m \u001b[38;5;21;01mqiskit\u001b[39;00m\u001b[38;5;21;01m.\u001b[39;00m\u001b[38;5;21;01mvisualization\u001b[39;00m \u001b[38;5;28;01mimport\u001b[39;00m circuit_drawer\n\u001b[0;32m-> 1835\u001b[0m \u001b[38;5;28;01mreturn\u001b[39;00m \u001b[43mcircuit_drawer\u001b[49m\u001b[43m(\u001b[49m\n\u001b[1;32m   1836\u001b[0m \u001b[43m    \u001b[49m\u001b[38;5;28;43mself\u001b[39;49m\u001b[43m,\u001b[49m\n\u001b[1;32m   1837\u001b[0m \u001b[43m    \u001b[49m\u001b[43mscale\u001b[49m\u001b[38;5;241;43m=\u001b[39;49m\u001b[43mscale\u001b[49m\u001b[43m,\u001b[49m\n\u001b[1;32m   1838\u001b[0m \u001b[43m    \u001b[49m\u001b[43mfilename\u001b[49m\u001b[38;5;241;43m=\u001b[39;49m\u001b[43mfilename\u001b[49m\u001b[43m,\u001b[49m\n\u001b[1;32m   1839\u001b[0m \u001b[43m    \u001b[49m\u001b[43mstyle\u001b[49m\u001b[38;5;241;43m=\u001b[39;49m\u001b[43mstyle\u001b[49m\u001b[43m,\u001b[49m\n\u001b[1;32m   1840\u001b[0m \u001b[43m    \u001b[49m\u001b[43moutput\u001b[49m\u001b[38;5;241;43m=\u001b[39;49m\u001b[43moutput\u001b[49m\u001b[43m,\u001b[49m\n\u001b[1;32m   1841\u001b[0m \u001b[43m    \u001b[49m\u001b[43minteractive\u001b[49m\u001b[38;5;241;43m=\u001b[39;49m\u001b[43minteractive\u001b[49m\u001b[43m,\u001b[49m\n\u001b[1;32m   1842\u001b[0m \u001b[43m    \u001b[49m\u001b[43mplot_barriers\u001b[49m\u001b[38;5;241;43m=\u001b[39;49m\u001b[43mplot_barriers\u001b[49m\u001b[43m,\u001b[49m\n\u001b[1;32m   1843\u001b[0m \u001b[43m    \u001b[49m\u001b[43mreverse_bits\u001b[49m\u001b[38;5;241;43m=\u001b[39;49m\u001b[43mreverse_bits\u001b[49m\u001b[43m,\u001b[49m\n\u001b[1;32m   1844\u001b[0m \u001b[43m    \u001b[49m\u001b[43mjustify\u001b[49m\u001b[38;5;241;43m=\u001b[39;49m\u001b[43mjustify\u001b[49m\u001b[43m,\u001b[49m\n\u001b[1;32m   1845\u001b[0m \u001b[43m    \u001b[49m\u001b[43mvertical_compression\u001b[49m\u001b[38;5;241;43m=\u001b[39;49m\u001b[43mvertical_compression\u001b[49m\u001b[43m,\u001b[49m\n\u001b[1;32m   1846\u001b[0m \u001b[43m    \u001b[49m\u001b[43midle_wires\u001b[49m\u001b[38;5;241;43m=\u001b[39;49m\u001b[43midle_wires\u001b[49m\u001b[43m,\u001b[49m\n\u001b[1;32m   1847\u001b[0m \u001b[43m    \u001b[49m\u001b[43mwith_layout\u001b[49m\u001b[38;5;241;43m=\u001b[39;49m\u001b[43mwith_layout\u001b[49m\u001b[43m,\u001b[49m\n\u001b[1;32m   1848\u001b[0m \u001b[43m    \u001b[49m\u001b[43mfold\u001b[49m\u001b[38;5;241;43m=\u001b[39;49m\u001b[43mfold\u001b[49m\u001b[43m,\u001b[49m\n\u001b[1;32m   1849\u001b[0m \u001b[43m    \u001b[49m\u001b[43max\u001b[49m\u001b[38;5;241;43m=\u001b[39;49m\u001b[43max\u001b[49m\u001b[43m,\u001b[49m\n\u001b[1;32m   1850\u001b[0m \u001b[43m    \u001b[49m\u001b[43minitial_state\u001b[49m\u001b[38;5;241;43m=\u001b[39;49m\u001b[43minitial_state\u001b[49m\u001b[43m,\u001b[49m\n\u001b[1;32m   1851\u001b[0m \u001b[43m    \u001b[49m\u001b[43mcregbundle\u001b[49m\u001b[38;5;241;43m=\u001b[39;49m\u001b[43mcregbundle\u001b[49m\u001b[43m,\u001b[49m\n\u001b[1;32m   1852\u001b[0m \u001b[43m\u001b[49m\u001b[43m)\u001b[49m\n",
      "File \u001b[0;32m~/miniconda3/envs/qcomp/lib/python3.9/site-packages/qiskit/visualization/circuit_visualization.py:231\u001b[0m, in \u001b[0;36mcircuit_drawer\u001b[0;34m(circuit, scale, filename, style, output, interactive, plot_barriers, reverse_bits, justify, vertical_compression, idle_wires, with_layout, fold, ax, initial_state, cregbundle)\u001b[0m\n\u001b[1;32m    217\u001b[0m     \u001b[38;5;28;01mreturn\u001b[39;00m _generate_latex_source(\n\u001b[1;32m    218\u001b[0m         circuit,\n\u001b[1;32m    219\u001b[0m         filename\u001b[38;5;241m=\u001b[39mfilename,\n\u001b[0;32m   (...)\u001b[0m\n\u001b[1;32m    228\u001b[0m         cregbundle\u001b[38;5;241m=\u001b[39mcregbundle,\n\u001b[1;32m    229\u001b[0m     )\n\u001b[1;32m    230\u001b[0m \u001b[38;5;28;01melif\u001b[39;00m output \u001b[38;5;241m==\u001b[39m \u001b[38;5;124m\"\u001b[39m\u001b[38;5;124mmpl\u001b[39m\u001b[38;5;124m\"\u001b[39m:\n\u001b[0;32m--> 231\u001b[0m     image \u001b[38;5;241m=\u001b[39m \u001b[43m_matplotlib_circuit_drawer\u001b[49m\u001b[43m(\u001b[49m\n\u001b[1;32m    232\u001b[0m \u001b[43m        \u001b[49m\u001b[43mcircuit\u001b[49m\u001b[43m,\u001b[49m\n\u001b[1;32m    233\u001b[0m \u001b[43m        \u001b[49m\u001b[43mscale\u001b[49m\u001b[38;5;241;43m=\u001b[39;49m\u001b[43mscale\u001b[49m\u001b[43m,\u001b[49m\n\u001b[1;32m    234\u001b[0m \u001b[43m        \u001b[49m\u001b[43mfilename\u001b[49m\u001b[38;5;241;43m=\u001b[39;49m\u001b[43mfilename\u001b[49m\u001b[43m,\u001b[49m\n\u001b[1;32m    235\u001b[0m \u001b[43m        \u001b[49m\u001b[43mstyle\u001b[49m\u001b[38;5;241;43m=\u001b[39;49m\u001b[43mstyle\u001b[49m\u001b[43m,\u001b[49m\n\u001b[1;32m    236\u001b[0m \u001b[43m        \u001b[49m\u001b[43mplot_barriers\u001b[49m\u001b[38;5;241;43m=\u001b[39;49m\u001b[43mplot_barriers\u001b[49m\u001b[43m,\u001b[49m\n\u001b[1;32m    237\u001b[0m \u001b[43m        \u001b[49m\u001b[43mreverse_bits\u001b[49m\u001b[38;5;241;43m=\u001b[39;49m\u001b[43mreverse_bits\u001b[49m\u001b[43m,\u001b[49m\n\u001b[1;32m    238\u001b[0m \u001b[43m        \u001b[49m\u001b[43mjustify\u001b[49m\u001b[38;5;241;43m=\u001b[39;49m\u001b[43mjustify\u001b[49m\u001b[43m,\u001b[49m\n\u001b[1;32m    239\u001b[0m \u001b[43m        \u001b[49m\u001b[43midle_wires\u001b[49m\u001b[38;5;241;43m=\u001b[39;49m\u001b[43midle_wires\u001b[49m\u001b[43m,\u001b[49m\n\u001b[1;32m    240\u001b[0m \u001b[43m        \u001b[49m\u001b[43mwith_layout\u001b[49m\u001b[38;5;241;43m=\u001b[39;49m\u001b[43mwith_layout\u001b[49m\u001b[43m,\u001b[49m\n\u001b[1;32m    241\u001b[0m \u001b[43m        \u001b[49m\u001b[43mfold\u001b[49m\u001b[38;5;241;43m=\u001b[39;49m\u001b[43mfold\u001b[49m\u001b[43m,\u001b[49m\n\u001b[1;32m    242\u001b[0m \u001b[43m        \u001b[49m\u001b[43max\u001b[49m\u001b[38;5;241;43m=\u001b[39;49m\u001b[43max\u001b[49m\u001b[43m,\u001b[49m\n\u001b[1;32m    243\u001b[0m \u001b[43m        \u001b[49m\u001b[43minitial_state\u001b[49m\u001b[38;5;241;43m=\u001b[39;49m\u001b[43minitial_state\u001b[49m\u001b[43m,\u001b[49m\n\u001b[1;32m    244\u001b[0m \u001b[43m        \u001b[49m\u001b[43mcregbundle\u001b[49m\u001b[38;5;241;43m=\u001b[39;49m\u001b[43mcregbundle\u001b[49m\u001b[43m,\u001b[49m\n\u001b[1;32m    245\u001b[0m \u001b[43m    \u001b[49m\u001b[43m)\u001b[49m\n\u001b[1;32m    246\u001b[0m \u001b[38;5;28;01melse\u001b[39;00m:\n\u001b[1;32m    247\u001b[0m     \u001b[38;5;28;01mraise\u001b[39;00m VisualizationError(\n\u001b[1;32m    248\u001b[0m         \u001b[38;5;124m\"\u001b[39m\u001b[38;5;124mInvalid output type \u001b[39m\u001b[38;5;132;01m%s\u001b[39;00m\u001b[38;5;124m selected. The only valid choices \u001b[39m\u001b[38;5;124m\"\u001b[39m\n\u001b[1;32m    249\u001b[0m         \u001b[38;5;124m\"\u001b[39m\u001b[38;5;124mare text, latex, latex_source, and mpl\u001b[39m\u001b[38;5;124m\"\u001b[39m \u001b[38;5;241m%\u001b[39m output\n\u001b[1;32m    250\u001b[0m     )\n",
      "File \u001b[0;32m~/miniconda3/envs/qcomp/lib/python3.9/site-packages/qiskit/visualization/circuit_visualization.py:581\u001b[0m, in \u001b[0;36m_matplotlib_circuit_drawer\u001b[0;34m(circuit, scale, filename, style, plot_barriers, reverse_bits, justify, idle_wires, with_layout, fold, ax, initial_state, cregbundle)\u001b[0m\n\u001b[1;32m    578\u001b[0m \u001b[38;5;28;01mif\u001b[39;00m fold \u001b[38;5;129;01mis\u001b[39;00m \u001b[38;5;28;01mNone\u001b[39;00m:\n\u001b[1;32m    579\u001b[0m     fold \u001b[38;5;241m=\u001b[39m \u001b[38;5;241m25\u001b[39m\n\u001b[0;32m--> 581\u001b[0m qcd \u001b[38;5;241m=\u001b[39m \u001b[43m_matplotlib\u001b[49m\u001b[38;5;241;43m.\u001b[39;49m\u001b[43mMatplotlibDrawer\u001b[49m\u001b[43m(\u001b[49m\n\u001b[1;32m    582\u001b[0m \u001b[43m    \u001b[49m\u001b[43mqubits\u001b[49m\u001b[43m,\u001b[49m\n\u001b[1;32m    583\u001b[0m \u001b[43m    \u001b[49m\u001b[43mclbits\u001b[49m\u001b[43m,\u001b[49m\n\u001b[1;32m    584\u001b[0m \u001b[43m    \u001b[49m\u001b[43mnodes\u001b[49m\u001b[43m,\u001b[49m\n\u001b[1;32m    585\u001b[0m \u001b[43m    \u001b[49m\u001b[43mscale\u001b[49m\u001b[38;5;241;43m=\u001b[39;49m\u001b[43mscale\u001b[49m\u001b[43m,\u001b[49m\n\u001b[1;32m    586\u001b[0m \u001b[43m    \u001b[49m\u001b[43mstyle\u001b[49m\u001b[38;5;241;43m=\u001b[39;49m\u001b[43mstyle\u001b[49m\u001b[43m,\u001b[49m\n\u001b[1;32m    587\u001b[0m \u001b[43m    \u001b[49m\u001b[43mreverse_bits\u001b[49m\u001b[38;5;241;43m=\u001b[39;49m\u001b[43mreverse_bits\u001b[49m\u001b[43m,\u001b[49m\n\u001b[1;32m    588\u001b[0m \u001b[43m    \u001b[49m\u001b[43mplot_barriers\u001b[49m\u001b[38;5;241;43m=\u001b[39;49m\u001b[43mplot_barriers\u001b[49m\u001b[43m,\u001b[49m\n\u001b[1;32m    589\u001b[0m \u001b[43m    \u001b[49m\u001b[43mlayout\u001b[49m\u001b[38;5;241;43m=\u001b[39;49m\u001b[38;5;28;43;01mNone\u001b[39;49;00m\u001b[43m,\u001b[49m\n\u001b[1;32m    590\u001b[0m \u001b[43m    \u001b[49m\u001b[43mfold\u001b[49m\u001b[38;5;241;43m=\u001b[39;49m\u001b[43mfold\u001b[49m\u001b[43m,\u001b[49m\n\u001b[1;32m    591\u001b[0m \u001b[43m    \u001b[49m\u001b[43max\u001b[49m\u001b[38;5;241;43m=\u001b[39;49m\u001b[43max\u001b[49m\u001b[43m,\u001b[49m\n\u001b[1;32m    592\u001b[0m \u001b[43m    \u001b[49m\u001b[43minitial_state\u001b[49m\u001b[38;5;241;43m=\u001b[39;49m\u001b[43minitial_state\u001b[49m\u001b[43m,\u001b[49m\n\u001b[1;32m    593\u001b[0m \u001b[43m    \u001b[49m\u001b[43mcregbundle\u001b[49m\u001b[38;5;241;43m=\u001b[39;49m\u001b[43mcregbundle\u001b[49m\u001b[43m,\u001b[49m\n\u001b[1;32m    594\u001b[0m \u001b[43m    \u001b[49m\u001b[43mglobal_phase\u001b[49m\u001b[38;5;241;43m=\u001b[39;49m\u001b[38;5;28;43;01mNone\u001b[39;49;00m\u001b[43m,\u001b[49m\n\u001b[1;32m    595\u001b[0m \u001b[43m    \u001b[49m\u001b[43mcalibrations\u001b[49m\u001b[38;5;241;43m=\u001b[39;49m\u001b[38;5;28;43;01mNone\u001b[39;49;00m\u001b[43m,\u001b[49m\n\u001b[1;32m    596\u001b[0m \u001b[43m    \u001b[49m\u001b[43mqregs\u001b[49m\u001b[38;5;241;43m=\u001b[39;49m\u001b[38;5;28;43;01mNone\u001b[39;49;00m\u001b[43m,\u001b[49m\n\u001b[1;32m    597\u001b[0m \u001b[43m    \u001b[49m\u001b[43mcregs\u001b[49m\u001b[38;5;241;43m=\u001b[39;49m\u001b[38;5;28;43;01mNone\u001b[39;49;00m\u001b[43m,\u001b[49m\n\u001b[1;32m    598\u001b[0m \u001b[43m    \u001b[49m\u001b[43mwith_layout\u001b[49m\u001b[38;5;241;43m=\u001b[39;49m\u001b[43mwith_layout\u001b[49m\u001b[43m,\u001b[49m\n\u001b[1;32m    599\u001b[0m \u001b[43m    \u001b[49m\u001b[43mcircuit\u001b[49m\u001b[38;5;241;43m=\u001b[39;49m\u001b[43mcircuit\u001b[49m\u001b[43m,\u001b[49m\n\u001b[1;32m    600\u001b[0m \u001b[43m\u001b[49m\u001b[43m)\u001b[49m\n\u001b[1;32m    601\u001b[0m \u001b[38;5;28;01mreturn\u001b[39;00m qcd\u001b[38;5;241m.\u001b[39mdraw(filename)\n",
      "File \u001b[0;32m~/miniconda3/envs/qcomp/lib/python3.9/site-packages/qiskit/utils/classtools.py:117\u001b[0m, in \u001b[0;36m_WrappedMethod.__get__.<locals>.out\u001b[0;34m(*args, **kwargs)\u001b[0m\n\u001b[1;32m    115\u001b[0m \u001b[38;5;28;01mfor\u001b[39;00m callback \u001b[38;5;129;01min\u001b[39;00m \u001b[38;5;28mself\u001b[39m\u001b[38;5;241m.\u001b[39m_before:\n\u001b[1;32m    116\u001b[0m     callback\u001b[38;5;241m.\u001b[39m\u001b[38;5;21m__get__\u001b[39m(obj, objtype)(\u001b[38;5;241m*\u001b[39margs, \u001b[38;5;241m*\u001b[39m\u001b[38;5;241m*\u001b[39mkwargs)\n\u001b[0;32m--> 117\u001b[0m retval \u001b[38;5;241m=\u001b[39m \u001b[43mmethod\u001b[49m\u001b[43m(\u001b[49m\u001b[38;5;241;43m*\u001b[39;49m\u001b[43margs\u001b[49m\u001b[43m,\u001b[49m\u001b[43m \u001b[49m\u001b[38;5;241;43m*\u001b[39;49m\u001b[38;5;241;43m*\u001b[39;49m\u001b[43mkwargs\u001b[49m\u001b[43m)\u001b[49m\n\u001b[1;32m    118\u001b[0m \u001b[38;5;28;01mfor\u001b[39;00m callback \u001b[38;5;129;01min\u001b[39;00m \u001b[38;5;28mself\u001b[39m\u001b[38;5;241m.\u001b[39m_after:\n\u001b[1;32m    119\u001b[0m     callback\u001b[38;5;241m.\u001b[39m\u001b[38;5;21m__get__\u001b[39m(obj, objtype)(\u001b[38;5;241m*\u001b[39margs, \u001b[38;5;241m*\u001b[39m\u001b[38;5;241m*\u001b[39mkwargs)\n",
      "File \u001b[0;32m~/miniconda3/envs/qcomp/lib/python3.9/site-packages/qiskit/utils/classtools.py:116\u001b[0m, in \u001b[0;36m_WrappedMethod.__get__.<locals>.out\u001b[0;34m(*args, **kwargs)\u001b[0m\n\u001b[1;32m    113\u001b[0m \u001b[38;5;129m@functools\u001b[39m\u001b[38;5;241m.\u001b[39mwraps(method)\n\u001b[1;32m    114\u001b[0m \u001b[38;5;28;01mdef\u001b[39;00m \u001b[38;5;21mout\u001b[39m(\u001b[38;5;241m*\u001b[39margs, \u001b[38;5;241m*\u001b[39m\u001b[38;5;241m*\u001b[39mkwargs):\n\u001b[1;32m    115\u001b[0m     \u001b[38;5;28;01mfor\u001b[39;00m callback \u001b[38;5;129;01min\u001b[39;00m \u001b[38;5;28mself\u001b[39m\u001b[38;5;241m.\u001b[39m_before:\n\u001b[0;32m--> 116\u001b[0m         \u001b[43mcallback\u001b[49m\u001b[38;5;241;43m.\u001b[39;49m\u001b[38;5;21;43m__get__\u001b[39;49m\u001b[43m(\u001b[49m\u001b[43mobj\u001b[49m\u001b[43m,\u001b[49m\u001b[43m \u001b[49m\u001b[43mobjtype\u001b[49m\u001b[43m)\u001b[49m\u001b[43m(\u001b[49m\u001b[38;5;241;43m*\u001b[39;49m\u001b[43margs\u001b[49m\u001b[43m,\u001b[49m\u001b[43m \u001b[49m\u001b[38;5;241;43m*\u001b[39;49m\u001b[38;5;241;43m*\u001b[39;49m\u001b[43mkwargs\u001b[49m\u001b[43m)\u001b[49m\n\u001b[1;32m    117\u001b[0m     retval \u001b[38;5;241m=\u001b[39m method(\u001b[38;5;241m*\u001b[39margs, \u001b[38;5;241m*\u001b[39m\u001b[38;5;241m*\u001b[39mkwargs)\n\u001b[1;32m    118\u001b[0m     \u001b[38;5;28;01mfor\u001b[39;00m callback \u001b[38;5;129;01min\u001b[39;00m \u001b[38;5;28mself\u001b[39m\u001b[38;5;241m.\u001b[39m_after:\n",
      "File \u001b[0;32m~/miniconda3/envs/qcomp/lib/python3.9/site-packages/qiskit/utils/lazy_tester.py:39\u001b[0m, in \u001b[0;36m_RequireNow.__call__\u001b[0;34m(self, *_args, **_kwargs)\u001b[0m\n\u001b[1;32m     38\u001b[0m \u001b[38;5;28;01mdef\u001b[39;00m \u001b[38;5;21m__call__\u001b[39m(\u001b[38;5;28mself\u001b[39m, \u001b[38;5;241m*\u001b[39m_args, \u001b[38;5;241m*\u001b[39m\u001b[38;5;241m*\u001b[39m_kwargs):\n\u001b[0;32m---> 39\u001b[0m     \u001b[38;5;28;43mself\u001b[39;49m\u001b[38;5;241;43m.\u001b[39;49m\u001b[43m_tester\u001b[49m\u001b[38;5;241;43m.\u001b[39;49m\u001b[43mrequire_now\u001b[49m\u001b[43m(\u001b[49m\u001b[38;5;28;43mself\u001b[39;49m\u001b[38;5;241;43m.\u001b[39;49m\u001b[43m_feature\u001b[49m\u001b[43m)\u001b[49m\n",
      "File \u001b[0;32m~/miniconda3/envs/qcomp/lib/python3.9/site-packages/qiskit/utils/lazy_tester.py:223\u001b[0m, in \u001b[0;36mLazyDependencyManager.require_now\u001b[0;34m(self, feature)\u001b[0m\n\u001b[1;32m    221\u001b[0m \u001b[38;5;28;01mif\u001b[39;00m \u001b[38;5;28mself\u001b[39m:\n\u001b[1;32m    222\u001b[0m     \u001b[38;5;28;01mreturn\u001b[39;00m\n\u001b[0;32m--> 223\u001b[0m \u001b[38;5;28;01mraise\u001b[39;00m MissingOptionalLibraryError(\n\u001b[1;32m    224\u001b[0m     libname\u001b[38;5;241m=\u001b[39m\u001b[38;5;28mself\u001b[39m\u001b[38;5;241m.\u001b[39m_name, name\u001b[38;5;241m=\u001b[39mfeature, pip_install\u001b[38;5;241m=\u001b[39m\u001b[38;5;28mself\u001b[39m\u001b[38;5;241m.\u001b[39m_install, msg\u001b[38;5;241m=\u001b[39m\u001b[38;5;28mself\u001b[39m\u001b[38;5;241m.\u001b[39m_msg\n\u001b[1;32m    225\u001b[0m )\n",
      "\u001b[0;31mMissingOptionalLibraryError\u001b[0m: \"The 'pylatexenc' library is required to use 'MatplotlibDrawer'. You can install it with 'pip install pylatexenc'.\""
     ]
    }
   ],
   "source": [
    "from qiskit import QuantumCircuit, assemble, Aer\n",
    "from qiskit.visualization import plot_histogram\n",
    "import numpy as np\n",
    "\n",
    "# coefficients of uknown state Alice sends to Bob\n",
    "unknown_state = [np.sqrt(1. / 4), np.sqrt(3. / 4)]\n",
    "\n",
    "# create quantum circuit\n",
    "qc = QuantumCircuit(3)\n",
    "\n",
    "qc.initialize(unknown_state, 0)\n",
    "qc.h(1)                          # entangle Alice and Bob qubits\n",
    "qc.cx(1, 2)                      #\n",
    "\n",
    "# run\n",
    "sim = Aer.get_backend('aer_simulator')\n",
    "qc.save_statevector()\n",
    "qobj = assemble(qc)\n",
    "result = sim.run(qobj).result()  # run circuit, get results\n",
    "\n",
    "# draw the circuit\n",
    "qc.draw(\"mpl\")"
   ]
  },
  {
   "cell_type": "markdown",
   "metadata": {},
   "source": [
    "#### **Teleportation: step 1**"
   ]
  },
  {
   "cell_type": "markdown",
   "metadata": {},
   "source": [
    "Alice applies the CNOT qubit to her two qubits, where the control is the unknown state $ket{\\psi}$ of qubit $q_0$. She then applies Hadamard to the unknown state."
   ]
  },
  {
   "cell_type": "code",
   "execution_count": null,
   "metadata": {},
   "outputs": [],
   "source": [
    "from qiskit import QuantumCircuit, assemble, Aer\n",
    "from qiskit.visualization import plot_histogram\n",
    "import numpy as np\n",
    "\n",
    "# coefficients of uknown state Alice sends to Bob\n",
    "unknown_state = [np.sqrt(1. / 4), np.sqrt(3. / 4)]\n",
    "\n",
    "# create quantum circuit\n",
    "qc = QuantumCircuit(3)\n",
    "\n",
    "qc.initialize(unknown_state, 0)\n",
    "qc.h(1)                          # entangle Alice and Bob qubits\n",
    "qc.cx(1, 2)                      #\n",
    "\n",
    "qc.barrier()\n",
    "\n",
    "qc.cx(0, 1)                      # Alice performs ops on her qubits\n",
    "qc.h(0)\n",
    "\n",
    "# run\n",
    "sim = Aer.get_backend('aer_simulator')\n",
    "qc.save_statevector()\n",
    "qobj = assemble(qc)\n",
    "result = sim.run(qobj).result()  # run circuit, get results\n",
    "\n",
    "# draw the circuit\n",
    "qc.draw(\"mpl\")"
   ]
  },
  {
   "cell_type": "markdown",
   "metadata": {},
   "source": [
    "Note we also added a barrier after the first, entangling sub-circuit to visually separate the steps. "
   ]
  },
  {
   "cell_type": "markdown",
   "metadata": {},
   "source": [
    "#### **Teleportation: step 2**"
   ]
  },
  {
   "cell_type": "markdown",
   "metadata": {},
   "source": [
    "Alice measures her two qubits, the result being a string of two bits, either $00, 01, 10$ or $11$. She then sends the bitstring to Bob.\n",
    "\n",
    "We want to store the measurement results in classical bits. For this purpose, we need to add two classical bits to the circuit."
   ]
  },
  {
   "cell_type": "code",
   "execution_count": null,
   "metadata": {},
   "outputs": [],
   "source": [
    "from qiskit import QuantumCircuit, assemble, Aer\n",
    "from qiskit import ClassicalRegister, QuantumRegister\n",
    "from qiskit.visualization import plot_histogram\n",
    "import numpy as np\n",
    "\n",
    "# coefficients of uknown state Alice sends to Bob\n",
    "unknown_state = [np.sqrt(1. / 4), np.sqrt(3. / 4)]\n",
    "\n",
    "# create quantum circuit\n",
    "q = QuantumRegister(3)\n",
    "\n",
    "c0 = ClassicalRegister(1, name=\"c0\")\n",
    "c1 = ClassicalRegister(1, name=\"c1\")\n",
    "\n",
    "qc = QuantumCircuit(q, c0, c1)\n",
    "\n",
    "qc.initialize(unknown_state, 0)\n",
    "\n",
    "qc.h(1)                          # entangle Alice and Bob qubits\n",
    "qc.cx(1, 2)                      #\n",
    "\n",
    "qc.barrier()\n",
    "\n",
    "qc.cx(0, 1)                      # Alice performs on her qubits\n",
    "qc.h(0)\n",
    "\n",
    "qc.barrier()\n",
    "\n",
    "qc.measure(q[0], c0)             # Alice measures her qubits\n",
    "qc.measure(q[1], c1)\n",
    "\n",
    "# run\n",
    "sim = Aer.get_backend('aer_simulator')\n",
    "qc.save_statevector()\n",
    "qobj = assemble(qc)\n",
    "result = sim.run(qobj).result()  # run circuit, get results\n",
    "\n",
    "# draw the circuit\n",
    "qc.draw(\"mpl\")"
   ]
  },
  {
   "cell_type": "markdown",
   "metadata": {},
   "source": [
    "#### **Teleportation: step 3**"
   ]
  },
  {
   "cell_type": "markdown",
   "metadata": {},
   "source": [
    "Bob receives the measurement bitstring from Alice and applies the following protocol. If the bitstring is: \n",
    "\n",
    "1. 00 &mdash; nothing to do.\n",
    "\n",
    "2. 01 &mdash; apply `x()` gate to his qubit.\n",
    "\n",
    "3. 10 &mdash; apply `z()` gate to his qubit.\n",
    "\n",
    "4. 11 &mdash; apply `x()`, then `z()` gate to his qubit."
   ]
  },
  {
   "cell_type": "code",
   "execution_count": null,
   "metadata": {},
   "outputs": [],
   "source": [
    "from qiskit import QuantumCircuit, assemble, Aer\n",
    "from qiskit import ClassicalRegister, QuantumRegister\n",
    "from qiskit.visualization import plot_histogram\n",
    "import numpy as np\n",
    "\n",
    "# coefficients of uknown state Alice sends to Bob\n",
    "unknown_state = [np.sqrt(1. / 4), np.sqrt(3. / 4)]\n",
    "\n",
    "# create quantum circuit\n",
    "q = QuantumRegister(3)\n",
    "\n",
    "c0 = ClassicalRegister(1, name=\"c0\")\n",
    "c1 = ClassicalRegister(1, name=\"c1\")\n",
    "\n",
    "qc = QuantumCircuit(q, c0, c1)\n",
    "\n",
    "qc.initialize(unknown_state, 0)\n",
    "\n",
    "qc.h(1)                          # entangle Alice and Bob qubits\n",
    "qc.cx(1, 2)                      #\n",
    "\n",
    "qc.barrier()\n",
    "\n",
    "qc.cx(0, 1)                      # Alice performs on her qubits\n",
    "qc.h(0)\n",
    "\n",
    "qc.barrier()\n",
    "\n",
    "qc.measure(q[0], c0)             # Alice measures her qubits\n",
    "qc.measure(q[1], c1)\n",
    "\n",
    "qc.barrier()\n",
    "\n",
    "# ctrl gates\n",
    "qc.x(q[2]).c_if(c1, 1)\n",
    "qc.z(q[2]).c_if(c0, 1)\n",
    "\n",
    "# run\n",
    "sim = Aer.get_backend('aer_simulator')\n",
    "qc.save_statevector()\n",
    "qobj = assemble(qc)\n",
    "result = sim.run(qobj).result()  # run circuit, get results\n",
    "\n",
    "# final state\n",
    "final_state = result.get_statevector()\n",
    "\n",
    "# draw the circuit\n",
    "qc.draw(\"mpl\")"
   ]
  },
  {
   "cell_type": "markdown",
   "metadata": {},
   "source": [
    "At the end of this circuit the state of Bob's qubit $\\ket{q_2}$ is in the state $\\ket{\\psi}$ that Alice has at the beginning of the circuit. Let us verify this by plotting the initial uknown state as well as the final state on the Bloch sphere."
   ]
  },
  {
   "cell_type": "code",
   "execution_count": null,
   "metadata": {},
   "outputs": [],
   "source": [
    "from qiskit.visualization import plot_bloch_multivector\n",
    "\n",
    "# initial uknkown state\n",
    "print(\"Initial unknown state =\", unknown_state)\n",
    "print()\n",
    "plot_bloch_multivector(unknown_state)"
   ]
  },
  {
   "cell_type": "code",
   "execution_count": null,
   "metadata": {},
   "outputs": [],
   "source": [
    "from qiskit.visualization import plot_bloch_multivector\n",
    "\n",
    "# final state\n",
    "print(\"Final state =\", final_state)\n",
    "print()\n",
    "plot_bloch_multivector(final_state)"
   ]
  },
  {
   "cell_type": "markdown",
   "metadata": {},
   "source": [
    "We see that the Alice's initial `uknown_state` is exactly the state of Bob's final qubit $\\ket{q_2}$&mdash;the teleportation protocol worked!\n",
    "\n",
    "Also, note that Alice's original initial state (in `qubit 0`) is lost in the final total state of the whole system. This confirms one cannot clone a quantum state. Both qubits in Alice's possession are either $\\ket{0}$ or $\\ket{1}$ as a result of measurement that Alice performed. The states of `qubit 0` and `qubit 1` show which bitstring was applied on Bob's side. \n",
    "\n"
   ]
  },
  {
   "cell_type": "markdown",
   "metadata": {},
   "source": [
    "> **Exercise 1**. In the above code, change the initial state to some random qubit state. Note that the state needs to be normalized. Run the code, plot the initial and final states to convince yourself that the teleportation protocol worked."
   ]
  }
 ],
 "metadata": {
  "kernelspec": {
   "display_name": "Python 3 (ipykernel)",
   "language": "python",
   "name": "python3"
  },
  "language_info": {
   "codemirror_mode": {
    "name": "ipython",
    "version": 3
   },
   "file_extension": ".py",
   "mimetype": "text/x-python",
   "name": "python",
   "nbconvert_exporter": "python",
   "pygments_lexer": "ipython3",
   "version": "3.9.12"
  }
 },
 "nbformat": 4,
 "nbformat_minor": 4
}
